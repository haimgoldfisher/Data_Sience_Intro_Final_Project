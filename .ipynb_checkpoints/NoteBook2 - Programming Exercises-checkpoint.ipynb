{
 "cells": [
  {
   "cell_type": "markdown",
   "metadata": {},
   "source": [
    "# PART II - Programming Exercises\n",
    "#####  @ Haim Goldfisher"
   ]
  },
  {
   "cell_type": "markdown",
   "metadata": {},
   "source": [
    "# Question 1 :"
   ]
  },
  {
   "cell_type": "code",
   "execution_count": 19,
   "metadata": {},
   "outputs": [],
   "source": [
    "# this function gets a decimal number (10) , it prints that number binary(2), octal(8) and hexadecimal(16) bases as well.\n",
    "\n",
    "def decimalToBinary(a): # this function gets a decimal number (10) , it returns that number in binary(2) base.\n",
    "    if a < 0:\n",
    "        num = int(a*-1)\n",
    "    else:\n",
    "        num = int(a)\n",
    "    newNum = 0\n",
    "    power = 0\n",
    "    while(num != 0):\n",
    "        newNum += (int(num) % 2) * (int(pow(10,power)))\n",
    "        power += 1\n",
    "        num /= 2\n",
    "    if a < 0:\n",
    "        return int(-1*newNum)\n",
    "    return int(newNum)\n",
    "\n",
    "def decimalToOctal(a): # this function gets a decimal number (10) , it returns that number in octal(8) base.\n",
    "    if a < 0:\n",
    "        num = int(a*-1)\n",
    "    else:\n",
    "        num = int(a)\n",
    "    newNum = 0\n",
    "    power = 0\n",
    "    while(num != 0):\n",
    "        newNum += (int(num) % 8) * (int(pow(10,power)))\n",
    "        power += 1\n",
    "        num /= 8\n",
    "    if a < 0:\n",
    "        return int(-1*newNum)\n",
    "    return int(newNum)\n",
    "\n",
    "def decimalToHex(a): # this function gets a decimal number (10) , returns prints that number in hexadecimal(16) base.\n",
    "    if a < 0:\n",
    "        num = int(a*-1)\n",
    "    else:\n",
    "        num = int(a)\n",
    "    newNum = \"\"\n",
    "    while num > 0:\n",
    "        remainder = num % 16\n",
    "        if remainder == 10:\n",
    "            newNum = \"A\" + newNum\n",
    "        elif remainder == 11:\n",
    "            newNum = \"B\" + newNum\n",
    "        elif remainder == 12:\n",
    "            newNum = \"C\" + newNum\n",
    "        elif remainder == 13:\n",
    "            newNum = \"D\" + newNum\n",
    "        elif remainder == 14:\n",
    "            newNum = \"E\" + newNum\n",
    "        elif remainder == 15:\n",
    "            newNum = \"F\" + newNum\n",
    "        else:    \n",
    "            newNum = str(remainder) + newNum\n",
    "        num = num // 16\n",
    "    if a < 0:\n",
    "        return \"-\"+newNum\n",
    "    return newNum\n",
    "\n",
    "def basesForDecimalNum(num): # the main function, it gets required number and prints it in the other bases.\n",
    "    print (\"The results for the decimal number: \",num,\"\\n\")\n",
    "    print (\"For Binary base:                    \",decimalToBinary(num))\n",
    "    print (\"For Octal base:                     \",decimalToOctal(num))\n",
    "    print (\"For Hexadecimal base:               \",decimalToHex(num))"
   ]
  },
  {
   "cell_type": "markdown",
   "metadata": {},
   "source": [
    "Here's a simple example of using of the function, try it by yourself!"
   ]
  },
  {
   "cell_type": "code",
   "execution_count": 16,
   "metadata": {},
   "outputs": [
    {
     "name": "stdout",
     "output_type": "stream",
     "text": [
      "Enter a decimal number for conversion: 2332\n",
      "The results for the decimal number:  2332 \n",
      "\n",
      "For Binary base:                     100100011100\n",
      "For Octal base:                      4434\n",
      "For Hexadecimal base:                91C\n"
     ]
    }
   ],
   "source": [
    "basesForDecimalNum(int(input(\"Enter a decimal number for conversion: \"))) # Press Ctrl+Enter to try it."
   ]
  },
  {
   "cell_type": "markdown",
   "metadata": {},
   "source": [
    "# Question 2 :"
   ]
  },
  {
   "cell_type": "code",
   "execution_count": 2,
   "metadata": {},
   "outputs": [],
   "source": [
    "import pandas as pd\n",
    "import numpy as np\n",
    "import matplotlib.pyplot as plt\n",
    "%matplotlib inline"
   ]
  },
  {
   "cell_type": "markdown",
   "metadata": {},
   "source": [
    "#### DATASET"
   ]
  },
  {
   "cell_type": "code",
   "execution_count": 3,
   "metadata": {},
   "outputs": [
    {
     "data": {
      "text/html": [
       "<div>\n",
       "<style scoped>\n",
       "    .dataframe tbody tr th:only-of-type {\n",
       "        vertical-align: middle;\n",
       "    }\n",
       "\n",
       "    .dataframe tbody tr th {\n",
       "        vertical-align: top;\n",
       "    }\n",
       "\n",
       "    .dataframe thead th {\n",
       "        text-align: right;\n",
       "    }\n",
       "</style>\n",
       "<table border=\"1\" class=\"dataframe\">\n",
       "  <thead>\n",
       "    <tr style=\"text-align: right;\">\n",
       "      <th></th>\n",
       "      <th>title</th>\n",
       "      <th>year</th>\n",
       "      <th>name</th>\n",
       "      <th>type</th>\n",
       "      <th>character</th>\n",
       "      <th>n</th>\n",
       "    </tr>\n",
       "  </thead>\n",
       "  <tbody>\n",
       "    <tr>\n",
       "      <th>0</th>\n",
       "      <td>Suuri illusioni</td>\n",
       "      <td>1985</td>\n",
       "      <td>Homo $</td>\n",
       "      <td>actor</td>\n",
       "      <td>Guests</td>\n",
       "      <td>22.0</td>\n",
       "    </tr>\n",
       "    <tr>\n",
       "      <th>1</th>\n",
       "      <td>Gangsta Rap: The Glockumentary</td>\n",
       "      <td>2007</td>\n",
       "      <td>Too $hort</td>\n",
       "      <td>actor</td>\n",
       "      <td>Himself</td>\n",
       "      <td>NaN</td>\n",
       "    </tr>\n",
       "    <tr>\n",
       "      <th>2</th>\n",
       "      <td>Menace II Society</td>\n",
       "      <td>1993</td>\n",
       "      <td>Too $hort</td>\n",
       "      <td>actor</td>\n",
       "      <td>Lew-Loc</td>\n",
       "      <td>27.0</td>\n",
       "    </tr>\n",
       "    <tr>\n",
       "      <th>3</th>\n",
       "      <td>Porndogs: The Adventures of Sadie</td>\n",
       "      <td>2009</td>\n",
       "      <td>Too $hort</td>\n",
       "      <td>actor</td>\n",
       "      <td>Bosco</td>\n",
       "      <td>3.0</td>\n",
       "    </tr>\n",
       "    <tr>\n",
       "      <th>4</th>\n",
       "      <td>Stop Pepper Palmer</td>\n",
       "      <td>2014</td>\n",
       "      <td>Too $hort</td>\n",
       "      <td>actor</td>\n",
       "      <td>Himself</td>\n",
       "      <td>NaN</td>\n",
       "    </tr>\n",
       "  </tbody>\n",
       "</table>\n",
       "</div>"
      ],
      "text/plain": [
       "                               title  year       name   type character     n\n",
       "0                    Suuri illusioni  1985     Homo $  actor    Guests  22.0\n",
       "1     Gangsta Rap: The Glockumentary  2007  Too $hort  actor   Himself   NaN\n",
       "2                  Menace II Society  1993  Too $hort  actor   Lew-Loc  27.0\n",
       "3  Porndogs: The Adventures of Sadie  2009  Too $hort  actor     Bosco   3.0\n",
       "4                 Stop Pepper Palmer  2014  Too $hort  actor   Himself   NaN"
      ]
     },
     "execution_count": 3,
     "metadata": {},
     "output_type": "execute_result"
    }
   ],
   "source": [
    "cast = pd.read_csv('C:\\Haim\\Anaconda\\cast.csv')\n",
    "cast.head()"
   ]
  },
  {
   "cell_type": "markdown",
   "metadata": {},
   "source": [
    "# 1."
   ]
  },
  {
   "cell_type": "markdown",
   "metadata": {},
   "source": [
    "How many movies have the title \"Hamlet\"?"
   ]
  },
  {
   "cell_type": "code",
   "execution_count": 7,
   "metadata": {},
   "outputs": [
    {
     "name": "stdout",
     "output_type": "stream",
     "text": [
      "The number of movies which have the title `Hamlet` is: 17\n"
     ]
    }
   ],
   "source": [
    "hamlet = cast.loc[cast['title']=='Hamlet']\n",
    "hamlet = hamlet.drop_duplicates(subset = 'year', keep = 'first')\n",
    "result = hamlet.shape[0]\n",
    "print(\"The number of movies which have the title `Hamlet` is:\",result)"
   ]
  },
  {
   "cell_type": "markdown",
   "metadata": {},
   "source": [
    "# 2."
   ]
  },
  {
   "cell_type": "markdown",
   "metadata": {},
   "source": [
    "List all of the \"Treasure Island\" movies from earliest to most recent."
   ]
  },
  {
   "cell_type": "code",
   "execution_count": 5,
   "metadata": {},
   "outputs": [
    {
     "data": {
      "text/html": [
       "<div>\n",
       "<style scoped>\n",
       "    .dataframe tbody tr th:only-of-type {\n",
       "        vertical-align: middle;\n",
       "    }\n",
       "\n",
       "    .dataframe tbody tr th {\n",
       "        vertical-align: top;\n",
       "    }\n",
       "\n",
       "    .dataframe thead th {\n",
       "        text-align: right;\n",
       "    }\n",
       "</style>\n",
       "<table border=\"1\" class=\"dataframe\">\n",
       "  <thead>\n",
       "    <tr style=\"text-align: right;\">\n",
       "      <th></th>\n",
       "      <th>title</th>\n",
       "      <th>year</th>\n",
       "      <th>name</th>\n",
       "      <th>type</th>\n",
       "      <th>character</th>\n",
       "      <th>n</th>\n",
       "    </tr>\n",
       "  </thead>\n",
       "  <tbody>\n",
       "    <tr>\n",
       "      <th>313097</th>\n",
       "      <td>Treasure Island</td>\n",
       "      <td>1918</td>\n",
       "      <td>Francis Carpenter</td>\n",
       "      <td>actor</td>\n",
       "      <td>Jim Hawkins</td>\n",
       "      <td>1.0</td>\n",
       "    </tr>\n",
       "    <tr>\n",
       "      <th>345942</th>\n",
       "      <td>Treasure Island</td>\n",
       "      <td>1920</td>\n",
       "      <td>Lon Chaney</td>\n",
       "      <td>actor</td>\n",
       "      <td>Blind Pew</td>\n",
       "      <td>5.0</td>\n",
       "    </tr>\n",
       "    <tr>\n",
       "      <th>8570</th>\n",
       "      <td>Treasure Island</td>\n",
       "      <td>1934</td>\n",
       "      <td>Robert Adair</td>\n",
       "      <td>actor</td>\n",
       "      <td>Tom - Seaman</td>\n",
       "      <td>NaN</td>\n",
       "    </tr>\n",
       "    <tr>\n",
       "      <th>12141</th>\n",
       "      <td>Treasure Island</td>\n",
       "      <td>1950</td>\n",
       "      <td>Chris Adcock</td>\n",
       "      <td>actor</td>\n",
       "      <td>Pike</td>\n",
       "      <td>26.0</td>\n",
       "    </tr>\n",
       "    <tr>\n",
       "      <th>38151</th>\n",
       "      <td>Treasure Island</td>\n",
       "      <td>1972</td>\n",
       "      <td>Cristino Almod?var</td>\n",
       "      <td>actor</td>\n",
       "      <td>O'Brien</td>\n",
       "      <td>18.0</td>\n",
       "    </tr>\n",
       "    <tr>\n",
       "      <th>484325</th>\n",
       "      <td>Treasure Island</td>\n",
       "      <td>1973</td>\n",
       "      <td>Richard Dawson</td>\n",
       "      <td>actor</td>\n",
       "      <td>Long John Silver</td>\n",
       "      <td>1.0</td>\n",
       "    </tr>\n",
       "    <tr>\n",
       "      <th>14899</th>\n",
       "      <td>Treasure Island</td>\n",
       "      <td>1985</td>\n",
       "      <td>Yves Afonso</td>\n",
       "      <td>actor</td>\n",
       "      <td>French captain</td>\n",
       "      <td>8.0</td>\n",
       "    </tr>\n",
       "    <tr>\n",
       "      <th>104905</th>\n",
       "      <td>Treasure Island</td>\n",
       "      <td>1999</td>\n",
       "      <td>Lance (II) Baker</td>\n",
       "      <td>actor</td>\n",
       "      <td>Frank</td>\n",
       "      <td>1.0</td>\n",
       "    </tr>\n",
       "  </tbody>\n",
       "</table>\n",
       "</div>"
      ],
      "text/plain": [
       "                  title  year                name   type         character  \\\n",
       "313097  Treasure Island  1918   Francis Carpenter  actor       Jim Hawkins   \n",
       "345942  Treasure Island  1920          Lon Chaney  actor        Blind Pew    \n",
       "8570    Treasure Island  1934        Robert Adair  actor      Tom - Seaman   \n",
       "12141   Treasure Island  1950        Chris Adcock  actor              Pike   \n",
       "38151   Treasure Island  1972  Cristino Almod?var  actor           O'Brien   \n",
       "484325  Treasure Island  1973      Richard Dawson  actor  Long John Silver   \n",
       "14899   Treasure Island  1985         Yves Afonso  actor    French captain   \n",
       "104905  Treasure Island  1999    Lance (II) Baker  actor             Frank   \n",
       "\n",
       "           n  \n",
       "313097   1.0  \n",
       "345942   5.0  \n",
       "8570     NaN  \n",
       "12141   26.0  \n",
       "38151   18.0  \n",
       "484325   1.0  \n",
       "14899    8.0  \n",
       "104905   1.0  "
      ]
     },
     "execution_count": 5,
     "metadata": {},
     "output_type": "execute_result"
    }
   ],
   "source": [
    "titleTI = cast.loc[cast['title'] == 'Treasure Island']\n",
    " # deleting duplicates from the same year:\n",
    "titleTI = titleTI.drop_duplicates(subset = 'year', keep = 'first')\n",
    "titleTI.sort_values(by = ['year'])"
   ]
  },
  {
   "cell_type": "markdown",
   "metadata": {},
   "source": [
    "# 3."
   ]
  },
  {
   "cell_type": "markdown",
   "metadata": {},
   "source": [
    "How many roles were credited in the silent 1921 version of Hamlet?"
   ]
  },
  {
   "cell_type": "code",
   "execution_count": 8,
   "metadata": {},
   "outputs": [
    {
     "name": "stdout",
     "output_type": "stream",
     "text": [
      "The number of roles that credited in the silent 1921 version of Hamlet is: 9 .\n"
     ]
    }
   ],
   "source": [
    "hamletV = cast.loc[cast['title'] == 'Hamlet']\n",
    "hamletIn1921 = hamletV.loc[cast['year'] == 1921]\n",
    "print (\"The number of roles that credited in the silent 1921 version of Hamlet is:\",len(hamletIn1921),\".\")"
   ]
  },
  {
   "cell_type": "markdown",
   "metadata": {},
   "source": [
    "# 4."
   ]
  },
  {
   "cell_type": "markdown",
   "metadata": {},
   "source": [
    "Use groupby() to plot the number of \"Hamlet\" films made each decade"
   ]
  },
  {
   "cell_type": "code",
   "execution_count": 9,
   "metadata": {},
   "outputs": [
    {
     "data": {
      "text/plain": [
       "<matplotlib.axes._subplots.AxesSubplot at 0x21880eb7b20>"
      ]
     },
     "execution_count": 9,
     "metadata": {},
     "output_type": "execute_result"
    },
    {
     "data": {
      "image/png": "[encoded data removed]",
      "text/plain": [
       "<Figure size 432x288 with 1 Axes>"
      ]
     },
     "metadata": {
      "needs_background": "light"
     },
     "output_type": "display_data"
    }
   ],
   "source": [
    "\n",
    "d=cast.loc[cast['title']=='Hamlet']\n",
    "dg=d.groupby((d['year']//10)*10).size() # change it\n",
    "dg.plot(title=\"ratio decade to movies\",kind='bar') #change it"
   ]
  },
  {
   "cell_type": "markdown",
   "metadata": {},
   "source": [
    "# 5."
   ]
  },
  {
   "cell_type": "markdown",
   "metadata": {},
   "source": [
    "How many leading (n=1) roles were available to actors, and how many to actresses, in each year of the 1950s?"
   ]
  },
  {
   "cell_type": "code",
   "execution_count": 83,
   "metadata": {},
   "outputs": [
    {
     "name": "stdout",
     "output_type": "stream",
     "text": [
      "The actors are: \n",
      "\t year: 1950, sum: 604.0\n",
      "\t year: 1951, sum: 633.0\n",
      "\t year: 1952, sum: 591.0\n",
      "\t year: 1953, sum: 634.0\n",
      "\t year: 1954, sum: 626.0\n",
      "\t year: 1955, sum: 606.0\n",
      "\t year: 1956, sum: 614.0\n",
      "\t year: 1957, sum: 708.0\n",
      "\t year: 1958, sum: 694.0\n",
      "\t year: 1959, sum: 678.0\n",
      "\n",
      " actresses: \n",
      "\t year: 1950, sum: 271.0\n",
      "\t year: 1951, sum: 272.0\n",
      "\t year: 1952, sum: 284.0\n",
      "\t year: 1953, sum: 290.0\n",
      "\t year: 1954, sum: 298.0\n",
      "\t year: 1955, sum: 264.0\n",
      "\t year: 1956, sum: 288.0\n",
      "\t year: 1957, sum: 284.0\n",
      "\t year: 1958, sum: 275.0\n",
      "\t year: 1959, sum: 287.0\n"
     ]
    }
   ],
   "source": [
    "numActors = cast['n'].eq(1).sum()\n",
    "decate50 = cast.loc[(cast['year'] >= 1950) & (cast['year'] <= 1959)]\n",
    "res1 = decate50.loc[cast['type'] == 'actor']\n",
    "res2 = decate50.loc[cast['type'] == 'actress']\n",
    "res1n = res1.loc[cast['n'] == 1]\n",
    "res2n = res2.loc[cast['n'] == 1]\n",
    "sumOfRes1 = res1n.groupby('year').sum()\n",
    "sumOfRes2 = res2n.groupby('year').sum()\n",
    "\n",
    "print(\"The actors are: \")\n",
    "first = 1950\n",
    "for i in sumOfRes1['n']:\n",
    "    print(\"\\t year: {}, sum: {}\".format(first, i))\n",
    "    first += 1\n",
    "\n",
    "print(\"\\n actresses: \")\n",
    "first = 1950\n",
    "for i in sumOfRes2['n']:\n",
    "    print(\"\\t year: {}, sum: {}\".format(first, i))\n",
    "    first += 1"
   ]
  },
  {
   "cell_type": "code",
   "execution_count": 10,
   "metadata": {},
   "outputs": [
    {
     "data": {
      "text/plain": [
       "<matplotlib.axes._subplots.AxesSubplot at 0x218812be6a0>"
      ]
     },
     "execution_count": 10,
     "metadata": {},
     "output_type": "execute_result"
    },
    {
     "data": {
      "image/png": "[encoded data removed]",
      "text/plain": [
       "<Figure size 432x288 with 1 Axes>"
      ]
     },
     "metadata": {
      "needs_background": "light"
     },
     "output_type": "display_data"
    }
   ],
   "source": [
    "#OPTION 2:\n",
    "ldf=cast[cast.year//10==195]\n",
    "actr=ldf[ldf.n==1]\n",
    "actr.groupby(['year','type']).size().unstack().plot(kind='bar')"
   ]
  },
  {
   "cell_type": "markdown",
   "metadata": {},
   "source": [
    "# 6."
   ]
  },
  {
   "cell_type": "markdown",
   "metadata": {},
   "source": [
    "How many leading (n=1) roles were available to actors, and how many to actresses, in each year of the 1950s?"
   ]
  },
  {
   "cell_type": "code",
   "execution_count": 85,
   "metadata": {},
   "outputs": [
    {
     "data": {
      "text/html": [
       "<div>\n",
       "<style scoped>\n",
       "    .dataframe tbody tr th:only-of-type {\n",
       "        vertical-align: middle;\n",
       "    }\n",
       "\n",
       "    .dataframe tbody tr th {\n",
       "        vertical-align: top;\n",
       "    }\n",
       "\n",
       "    .dataframe thead th {\n",
       "        text-align: right;\n",
       "    }\n",
       "</style>\n",
       "<table border=\"1\" class=\"dataframe\">\n",
       "  <thead>\n",
       "    <tr style=\"text-align: right;\">\n",
       "      <th></th>\n",
       "      <th>year</th>\n",
       "      <th>n</th>\n",
       "    </tr>\n",
       "    <tr>\n",
       "      <th>name</th>\n",
       "      <th></th>\n",
       "      <th></th>\n",
       "    </tr>\n",
       "  </thead>\n",
       "  <tbody>\n",
       "    <tr>\n",
       "      <th>'Chiyaan' Vikram</th>\n",
       "      <td>50165</td>\n",
       "      <td>25.0</td>\n",
       "    </tr>\n",
       "    <tr>\n",
       "      <th>'Cowboy' Matt Hopewell</th>\n",
       "      <td>2012</td>\n",
       "      <td>1.0</td>\n",
       "    </tr>\n",
       "    <tr>\n",
       "      <th>'Karloff' Lagarde</th>\n",
       "      <td>3932</td>\n",
       "      <td>2.0</td>\n",
       "    </tr>\n",
       "    <tr>\n",
       "      <th>'Little Billy' Rhodes</th>\n",
       "      <td>1926</td>\n",
       "      <td>1.0</td>\n",
       "    </tr>\n",
       "    <tr>\n",
       "      <th>'Pook Diesel' Paul Watson</th>\n",
       "      <td>2007</td>\n",
       "      <td>1.0</td>\n",
       "    </tr>\n",
       "    <tr>\n",
       "      <th>...</th>\n",
       "      <td>...</td>\n",
       "      <td>...</td>\n",
       "    </tr>\n",
       "    <tr>\n",
       "      <th>Zygmunt H?bner</th>\n",
       "      <td>1967</td>\n",
       "      <td>1.0</td>\n",
       "    </tr>\n",
       "    <tr>\n",
       "      <th>Zygmunt Kestowicz</th>\n",
       "      <td>3915</td>\n",
       "      <td>2.0</td>\n",
       "    </tr>\n",
       "    <tr>\n",
       "      <th>Zygmunt Malanowicz</th>\n",
       "      <td>9872</td>\n",
       "      <td>5.0</td>\n",
       "    </tr>\n",
       "    <tr>\n",
       "      <th>Zygmunt Modzelewski</th>\n",
       "      <td>1926</td>\n",
       "      <td>1.0</td>\n",
       "    </tr>\n",
       "    <tr>\n",
       "      <th>Zygmunt Turkow</th>\n",
       "      <td>1937</td>\n",
       "      <td>1.0</td>\n",
       "    </tr>\n",
       "  </tbody>\n",
       "</table>\n",
       "<p>55238 rows × 2 columns</p>\n",
       "</div>"
      ],
      "text/plain": [
       "                            year     n\n",
       "name                                  \n",
       "'Chiyaan' Vikram           50165  25.0\n",
       "'Cowboy' Matt Hopewell      2012   1.0\n",
       "'Karloff' Lagarde           3932   2.0\n",
       "'Little Billy' Rhodes       1926   1.0\n",
       "'Pook Diesel' Paul Watson   2007   1.0\n",
       "...                          ...   ...\n",
       "Zygmunt H?bner              1967   1.0\n",
       "Zygmunt Kestowicz           3915   2.0\n",
       "Zygmunt Malanowicz          9872   5.0\n",
       "Zygmunt Modzelewski         1926   1.0\n",
       "Zygmunt Turkow              1937   1.0\n",
       "\n",
       "[55238 rows x 2 columns]"
      ]
     },
     "execution_count": 85,
     "metadata": {},
     "output_type": "execute_result"
    }
   ],
   "source": [
    "decade90s = cast.loc[(cast['year'] >= 1990)]\n",
    "decade90s_n = cast.loc[(cast['n'] == 1)]\n",
    "decade90s_n.groupby('name').sum()"
   ]
  },
  {
   "cell_type": "code",
   "execution_count": 11,
   "metadata": {},
   "outputs": [
    {
     "name": "stdout",
     "output_type": "stream",
     "text": [
      "name\n",
      "Dilip                  59\n",
      "Nagarjuna Akkineni     60\n",
      "Amitabh Bachchan       68\n",
      "Eric Roberts           68\n",
      "Ajay Devgn             69\n",
      "Andy Lau               72\n",
      "Jayaram                76\n",
      "Akshay Kumar           87\n",
      "Mammootty             118\n",
      "Mohanlal              126\n",
      "dtype: int64\n"
     ]
    },
    {
     "data": {
      "image/png": "[encoded data removed]",
      "text/plain": [
       "<Figure size 432x288 with 1 Axes>"
      ]
     },
     "metadata": {
      "needs_background": "light"
     },
     "output_type": "display_data"
    }
   ],
   "source": [
    "#OPTION 2:\n",
    "nd=cast[(cast.year>=1990)&(cast.n==1)]\n",
    "nd=nd.groupby('name').size().sort_values()\n",
    "nd.tail(10).plot(kind='bar')\n",
    "print(nd.tail(10))"
   ]
  },
  {
   "cell_type": "markdown",
   "metadata": {},
   "source": [
    "# 7."
   ]
  },
  {
   "cell_type": "markdown",
   "metadata": {},
   "source": [
    "List, in order by year, each of the films in which Frank Oz has played more than 1 role."
   ]
  },
  {
   "cell_type": "code",
   "execution_count": 12,
   "metadata": {},
   "outputs": [
    {
     "data": {
      "text/plain": [
       "title                                     year\n",
       "The Muppet Movie                          1979    8\n",
       "An American Werewolf in London            1981    2\n",
       "The Great Muppet Caper                    1981    6\n",
       "The Dark Crystal                          1982    2\n",
       "The Muppets Take Manhattan                1984    7\n",
       "Sesame Street Presents: Follow that Bird  1985    3\n",
       "The Muppet Christmas Carol                1992    7\n",
       "Muppet Treasure Island                    1996    4\n",
       "Muppets from Space                        1999    4\n",
       "The Adventures of Elmo in Grouchland      1999    3\n",
       "dtype: int64"
      ]
     },
     "execution_count": 12,
     "metadata": {},
     "output_type": "execute_result"
    }
   ],
   "source": [
    "frankOz = cast[cast.name == \"Frank Oz\"]\n",
    "frankOz = frankOz.groupby(['title', 'year']).size()\n",
    "frankOz = frankOz[frankOz > 1]\n",
    "frankOz.sort_index(level=['year'])"
   ]
  }
 ],
 "metadata": {
  "kernelspec": {
   "display_name": "Python 3",
   "language": "python",
   "name": "python3"
  },
  "language_info": {
   "codemirror_mode": {
    "name": "ipython",
    "version": 3
   },
   "file_extension": ".py",
   "mimetype": "text/x-python",
   "name": "python",
   "nbconvert_exporter": "python",
   "pygments_lexer": "ipython3",
   "version": "3.8.3"
  }
 },
 "nbformat": 4,
 "nbformat_minor": 4
}
